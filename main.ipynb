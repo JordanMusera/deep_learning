{
 "cells": [
  {
   "cell_type": "code",
   "id": "initial_id",
   "metadata": {
    "collapsed": true,
    "ExecuteTime": {
     "end_time": "2025-10-19T07:56:14.192668Z",
     "start_time": "2025-10-19T07:56:14.184747Z"
    }
   },
   "source": [
    "import os\n",
    "\n",
    "import torch\n",
    "import torch.nn as nn\n",
    "import torch.optim as optim\n",
    "from PIL import Image\n",
    "from torch.utils.data import DataLoader,Dataset\n",
    "from torchvision import transforms,models\n",
    "from sklearn.metrics import accuracy_score"
   ],
   "outputs": [],
   "execution_count": 8
  },
  {
   "metadata": {},
   "cell_type": "code",
   "outputs": [],
   "execution_count": null,
   "source": "",
   "id": "bd1c58a375c5c5e7"
  },
  {
   "metadata": {
    "ExecuteTime": {
     "end_time": "2025-10-19T07:56:14.328443Z",
     "start_time": "2025-10-19T07:56:14.319080Z"
    }
   },
   "cell_type": "code",
   "source": [
    "device = torch.device(\"cuda\" if torch.cuda.is_available() else \"cpu\")\n",
    "\n",
    "class PneumoniaDataset(Dataset):\n",
    "    def __init__(self,root_dir,transform=None):\n",
    "        self.root_dir = root_dir\n",
    "        self.transform = transform\n",
    "        self.image_paths = []\n",
    "        self.labels = []\n",
    "\n",
    "        for label in ['NORMAL','PNEUMONIA']:\n",
    "            class_dir = os.path.join(root_dir,label)\n",
    "            for img_name in os.listdir(class_dir):\n",
    "                self.image_paths.append(os.path.join(class_dir,img_name))\n",
    "                self.labels.append(0 if label == 'Normal' else 1)\n",
    "\n",
    "    def __len__(self):\n",
    "        return len(self.image_paths)\n",
    "\n",
    "    def __getitem__(self, item):\n",
    "        img_path = self.image_paths[item]\n",
    "        image = Image.open(img_path).convert('RGB')\n",
    "        label = self.labels[item]\n",
    "\n",
    "        if self.transform:\n",
    "            image = self.transform(image)\n",
    "        return image,label"
   ],
   "id": "71458c9c12f87ab0",
   "outputs": [],
   "execution_count": 9
  },
  {
   "metadata": {
    "ExecuteTime": {
     "end_time": "2025-10-19T07:58:52.571398Z",
     "start_time": "2025-10-19T07:58:02.728282Z"
    }
   },
   "cell_type": "code",
   "source": [
    "transform = transforms.Compose([\n",
    "    transforms.Resize((224,224)),\n",
    "    transforms.ToTensor(),\n",
    "    transforms.Normalize(mean=[0.485,0.456,0.406],std=[0.229,0.224,0.225])\n",
    "])\n",
    "\n",
    "train_dataset = PneumoniaDataset(root_dir='C:\\\\Projects\\\\python\\\\data_sets\\\\chest_xray\\\\train',transform=transform)\n",
    "test_dataset = PneumoniaDataset(root_dir='C:\\\\Projects\\\\python\\\\data_sets\\\\chest_xray\\\\test',transform=transform)\n",
    "val_dataset = PneumoniaDataset(root_dir='C:\\\\Projects\\\\python\\\\data_sets\\\\chest_xray\\\\val',transform=transform)\n",
    "\n",
    "train_loader = DataLoader(train_dataset,batch_size=32,shuffle=True)\n",
    "test_loader = DataLoader(test_dataset,batch_size=32,shuffle=False)\n",
    "val_loader = DataLoader(val_dataset,batch_size=32,shuffle=False)\n",
    "\n",
    "model = models.resnet18(weights=models.ResNet18_Weights.IMAGENET1K_V1)\n",
    "model.fc = nn.Linear(model.fc.in_features,2)#NORMAL,PNEUMONIA\n",
    "model = model.to(device)"
   ],
   "id": "882a8d35a69e059a",
   "outputs": [
    {
     "name": "stdout",
     "output_type": "stream",
     "text": [
      "Downloading: \"https://download.pytorch.org/models/resnet18-f37072fd.pth\" to C:\\Users\\jorda/.cache\\torch\\hub\\checkpoints\\resnet18-f37072fd.pth\n"
     ]
    },
    {
     "name": "stderr",
     "output_type": "stream",
     "text": [
      "100.0%\n"
     ]
    }
   ],
   "execution_count": 11
  },
  {
   "metadata": {
    "ExecuteTime": {
     "end_time": "2025-10-19T07:58:57.552019Z",
     "start_time": "2025-10-19T07:58:57.542588Z"
    }
   },
   "cell_type": "code",
   "source": [
    "criterion = nn.CrossEntropyLoss()\n",
    "optimizer = optim.Adam(model.parameters(),lr=0.001)"
   ],
   "id": "cbc606e65f25affa",
   "outputs": [],
   "execution_count": 12
  },
  {
   "metadata": {
    "ExecuteTime": {
     "end_time": "2025-10-19T11:41:21.495236Z",
     "start_time": "2025-10-19T07:59:00.588341Z"
    }
   },
   "cell_type": "code",
   "source": [
    "num_epochs = 10\n",
    "\n",
    "for epoch in range(num_epochs):\n",
    "    model.train()\n",
    "    running_loss = 0.0\n",
    "\n",
    "    for images,labels in train_loader:\n",
    "        images = images.to(device)\n",
    "        labels = labels.to(device)\n",
    "\n",
    "        optimizer.zero_grad()\n",
    "        outputs = model(images)\n",
    "        loss = criterion(outputs,labels)\n",
    "        loss.backward()\n",
    "\n",
    "        optimizer.step()\n",
    "        running_loss += loss\n",
    "\n",
    "    print(f'Epoch {epoch+1}/{num_epochs}, Loss: {running_loss/len(train_loader)}')"
   ],
   "id": "1161fb3ebf77a93",
   "outputs": [
    {
     "name": "stdout",
     "output_type": "stream",
     "text": [
      "Epoch 1/10, Loss: 0.012368422001600266\n",
      "Epoch 2/10, Loss: 9.618944204703439e-06\n",
      "Epoch 3/10, Loss: 7.542238108726451e-06\n",
      "Epoch 4/10, Loss: 6.22243169345893e-06\n",
      "Epoch 5/10, Loss: 5.223051630309783e-06\n",
      "Epoch 6/10, Loss: 4.452813755051466e-06\n",
      "Epoch 7/10, Loss: 3.840632416540757e-06\n",
      "Epoch 8/10, Loss: 3.343297294122749e-06\n",
      "Epoch 9/10, Loss: 2.931276412709849e-06\n",
      "Epoch 10/10, Loss: 2.587246854091063e-06\n"
     ]
    }
   ],
   "execution_count": 13
  },
  {
   "metadata": {
    "ExecuteTime": {
     "end_time": "2025-10-19T11:44:13.024488Z",
     "start_time": "2025-10-19T11:44:10.897504Z"
    }
   },
   "cell_type": "code",
   "source": [
    "model.eval()\n",
    "val_labels = []\n",
    "val_preds = []\n",
    "\n",
    "with torch.no_grad():\n",
    "    for images,labels in val_loader:\n",
    "        images = images.to(device)\n",
    "        labels = labels.to(device)\n",
    "\n",
    "        outputs = model(images)\n",
    "        _,preds = torch.max(outputs,1)\n",
    "\n",
    "        val_labels.extend(labels.cpu().numpy())\n",
    "        val_preds.extend(preds.cpu().numpy())\n",
    "\n",
    "    val_accuracy = accuracy_score(val_labels,val_preds)\n",
    "    print('Validation accuracy:',val_accuracy)"
   ],
   "id": "23e62641f386ac8d",
   "outputs": [
    {
     "name": "stdout",
     "output_type": "stream",
     "text": [
      "Validation accuracy: 1.0\n"
     ]
    }
   ],
   "execution_count": 14
  },
  {
   "metadata": {
    "ExecuteTime": {
     "end_time": "2025-10-19T11:45:09.313978Z",
     "start_time": "2025-10-19T11:44:19.566326Z"
    }
   },
   "cell_type": "code",
   "source": [
    "model.eval()\n",
    "test_labels = []\n",
    "test_preds = []\n",
    "\n",
    "\n",
    "with torch.no_grad():\n",
    "    for images,labels in test_loader:\n",
    "        images = images.to(device)\n",
    "        labels = labels.to(device)\n",
    "\n",
    "        outputs = model(images)\n",
    "        _,preds = torch.max(outputs,1)\n",
    "\n",
    "        test_labels.extend(labels.cpu().numpy())\n",
    "        test_preds.extend(preds.cpu().numpy())\n",
    "\n",
    "    test_accuracy = accuracy_score(test_labels,test_preds)\n",
    "    print('Test accuracy:',test_accuracy)"
   ],
   "id": "89c377b409fc263a",
   "outputs": [
    {
     "name": "stdout",
     "output_type": "stream",
     "text": [
      "Test accuracy: 1.0\n"
     ]
    }
   ],
   "execution_count": 15
  },
  {
   "metadata": {
    "ExecuteTime": {
     "end_time": "2025-10-19T11:45:13.603108Z",
     "start_time": "2025-10-19T11:45:13.429617Z"
    }
   },
   "cell_type": "code",
   "source": "torch.save(model.state_dict(),'pneumonia_classifier.pth')",
   "id": "72a25d25dea1d027",
   "outputs": [],
   "execution_count": 16
  }
 ],
 "metadata": {
  "kernelspec": {
   "display_name": "Python 3",
   "language": "python",
   "name": "python3"
  },
  "language_info": {
   "codemirror_mode": {
    "name": "ipython",
    "version": 2
   },
   "file_extension": ".py",
   "mimetype": "text/x-python",
   "name": "python",
   "nbconvert_exporter": "python",
   "pygments_lexer": "ipython2",
   "version": "2.7.6"
  }
 },
 "nbformat": 4,
 "nbformat_minor": 5
}
